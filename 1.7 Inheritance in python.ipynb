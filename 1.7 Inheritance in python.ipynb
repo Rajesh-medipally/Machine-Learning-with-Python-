{
 "cells": [
  {
   "cell_type": "code",
   "execution_count": 1,
   "metadata": {},
   "outputs": [],
   "source": [
    "## the concept of inheritance is based on the oops concepts, so it is mostly same as in java, \n",
    "## in python self keyword is similar to this keyword in java but not same,to inherit we use super() to refer the parent class\n",
    "\n",
    "class Car() :\n",
    "    def __init__(self,engine, doorType, windows) :\n",
    "        self.windows =windows\n",
    "        self.engine = engine\n",
    "        self.doorType = doorType\n",
    "    def drive( self) :\n",
    "        print('driving car')\n",
    "        "
   ]
  },
  {
   "cell_type": "code",
   "execution_count": 2,
   "metadata": {},
   "outputs": [],
   "source": [
    "car = Car('diesel','auto',4)"
   ]
  },
  {
   "cell_type": "code",
   "execution_count": 3,
   "metadata": {},
   "outputs": [
    {
     "name": "stdout",
     "output_type": "stream",
     "text": [
      "driving car\n"
     ]
    }
   ],
   "source": [
    "car.drive()"
   ]
  },
  {
   "cell_type": "code",
   "execution_count": 4,
   "metadata": {},
   "outputs": [],
   "source": [
    "class audi(Car) :\n",
    "    def __init__(self,engine,doorType,windows,model) :\n",
    "            super().__init__(engine,doorType,windows)\n",
    "            self.model = model\n",
    "    def automatic(self) :\n",
    "        print('no automatic')"
   ]
  },
  {
   "cell_type": "code",
   "execution_count": 5,
   "metadata": {},
   "outputs": [],
   "source": [
    "car1 = audi('diesel','auto',4,5.1)"
   ]
  },
  {
   "cell_type": "code",
   "execution_count": 6,
   "metadata": {},
   "outputs": [
    {
     "name": "stdout",
     "output_type": "stream",
     "text": [
      "no automatic\n"
     ]
    }
   ],
   "source": [
    "car1.automatic()"
   ]
  },
  {
   "cell_type": "code",
   "execution_count": 7,
   "metadata": {},
   "outputs": [
    {
     "name": "stdout",
     "output_type": "stream",
     "text": [
      "driving car\n"
     ]
    }
   ],
   "source": [
    "car1.drive()"
   ]
  },
  {
   "cell_type": "code",
   "execution_count": null,
   "metadata": {},
   "outputs": [],
   "source": []
  }
 ],
 "metadata": {
  "kernelspec": {
   "display_name": "Python 3",
   "language": "python",
   "name": "python3"
  },
  "language_info": {
   "codemirror_mode": {
    "name": "ipython",
    "version": 3
   },
   "file_extension": ".py",
   "mimetype": "text/x-python",
   "name": "python",
   "nbconvert_exporter": "python",
   "pygments_lexer": "ipython3",
   "version": "3.8.5"
  }
 },
 "nbformat": 4,
 "nbformat_minor": 4
}
