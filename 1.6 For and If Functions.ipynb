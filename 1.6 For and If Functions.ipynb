{
 "cells": [
  {
   "cell_type": "code",
   "execution_count": 1,
   "metadata": {},
   "outputs": [
    {
     "name": "stdout",
     "output_type": "stream",
     "text": [
      "56 53\n"
     ]
    }
   ],
   "source": [
    "## if funtion is almost as same as java, in python we dont use barces so we use : .\n",
    "\n",
    "## If conditions  and for loops\n",
    "\n",
    "lst=[1,2,3,4,5,6,7,8,9,10,12,13,14,15]\n",
    "\n",
    "even_sum=0\n",
    "odd_sum=0\n",
    "for i in lst :\n",
    "    if i%2==0 :\n",
    "        even_sum=even_sum+i\n",
    "    else :\n",
    "        odd_sum=odd_sum+i\n",
    "    \n",
    "print(even_sum,odd_sum)"
   ]
  },
  {
   "cell_type": "code",
   "execution_count": 3,
   "metadata": {},
   "outputs": [],
   "source": [
    "\n",
    "##here funtion is a method in java\n",
    "def add(sum1,sum2) :\n",
    "    return sum1+sum2"
   ]
  },
  {
   "cell_type": "code",
   "execution_count": 4,
   "metadata": {},
   "outputs": [
    {
     "data": {
      "text/plain": [
       "6"
      ]
     },
     "execution_count": 4,
     "metadata": {},
     "output_type": "execute_result"
    }
   ],
   "source": [
    "add(1,5)"
   ]
  },
  {
   "cell_type": "code",
   "execution_count": 6,
   "metadata": {},
   "outputs": [
    {
     "data": {
      "text/plain": [
       "109"
      ]
     },
     "execution_count": 6,
     "metadata": {},
     "output_type": "execute_result"
    }
   ],
   "source": [
    "## using for loop in a list to iterate \n",
    "\n",
    "def add_lst(lst) :\n",
    "    sum=0\n",
    "    for i in lst :\n",
    "        sum=sum+i\n",
    "    return sum\n",
    "    \n",
    "add_lst(lst)"
   ]
  },
  {
   "cell_type": "code",
   "execution_count": 7,
   "metadata": {},
   "outputs": [
    {
     "name": "stdout",
     "output_type": "stream",
     "text": [
      "Enter the list numbers1234546546535456354234547643524123453524323453243454334\n"
     ]
    }
   ],
   "source": [
    "## giving input\n",
    "lst = list(input('Enter the list numbers'))"
   ]
  },
  {
   "cell_type": "code",
   "execution_count": 8,
   "metadata": {},
   "outputs": [
    {
     "data": {
      "text/plain": [
       "['1',\n",
       " '2',\n",
       " '3',\n",
       " '4',\n",
       " '5',\n",
       " '4',\n",
       " '6',\n",
       " '5',\n",
       " '4',\n",
       " '6',\n",
       " '5',\n",
       " '3',\n",
       " '5',\n",
       " '4',\n",
       " '5',\n",
       " '6',\n",
       " '3',\n",
       " '5',\n",
       " '4',\n",
       " '2',\n",
       " '3',\n",
       " '4',\n",
       " '5',\n",
       " '4',\n",
       " '7',\n",
       " '6',\n",
       " '4',\n",
       " '3',\n",
       " '5',\n",
       " '2',\n",
       " '4',\n",
       " '1',\n",
       " '2',\n",
       " '3',\n",
       " '4',\n",
       " '5',\n",
       " '3',\n",
       " '5',\n",
       " '2',\n",
       " '4',\n",
       " '3',\n",
       " '2',\n",
       " '3',\n",
       " '4',\n",
       " '5',\n",
       " '3',\n",
       " '2',\n",
       " '4',\n",
       " '3',\n",
       " '4',\n",
       " '5',\n",
       " '4',\n",
       " '3',\n",
       " '3',\n",
       " '4']"
      ]
     },
     "execution_count": 8,
     "metadata": {},
     "output_type": "execute_result"
    }
   ],
   "source": [
    "lst"
   ]
  },
  {
   "cell_type": "code",
   "execution_count": null,
   "metadata": {},
   "outputs": [],
   "source": []
  }
 ],
 "metadata": {
  "kernelspec": {
   "display_name": "Python 3",
   "language": "python",
   "name": "python3"
  },
  "language_info": {
   "codemirror_mode": {
    "name": "ipython",
    "version": 3
   },
   "file_extension": ".py",
   "mimetype": "text/x-python",
   "name": "python",
   "nbconvert_exporter": "python",
   "pygments_lexer": "ipython3",
   "version": "3.8.5"
  }
 },
 "nbformat": 4,
 "nbformat_minor": 4
}
